{
 "cells": [
  {
   "cell_type": "markdown",
   "id": "c8710460-fcb5-418b-a17e-67a7fa36003e",
   "metadata": {
    "tags": []
   },
   "source": [
    "# Read Tif file names\n"
   ]
  },
  {
   "cell_type": "code",
   "execution_count": 16,
   "id": "65e47034-e6c0-490a-bf65-e322d1e48e76",
   "metadata": {
    "tags": []
   },
   "outputs": [
    {
     "name": "stdout",
     "output_type": "stream",
     "text": [
      "All .tif file names have been saved to Y:\\Lab\\Qiao_public\\dataimages\\Qiao\\Eric's endothelial project\\R1-quantification\\tif_files_list.xlsx\n"
     ]
    }
   ],
   "source": [
    "import os\n",
    "import pandas as pd\n",
    "\n",
    "# Specify the folder path\n",
    "folder_path = r\"Y:\\Lab\\Qiao_public\\dataimages\\Qiao\\Eric's endothelial project\\R1-quantification\\Fig2\"\n",
    "\n",
    "# Get all .tif file names in the folder\n",
    "tif_files = [f for f in os.listdir(folder_path) if f.endswith('.tif')]\n",
    "\n",
    "\n",
    "\n",
    "# Convert the list of file names to a DataFrame\n",
    "df = pd.DataFrame(tif_files, columns=[\"File Name\"])\n",
    "\n",
    "# Specify the output Excel file path\n",
    "output_excel_path = r\"Y:\\Lab\\Qiao_public\\dataimages\\Qiao\\Eric's endothelial project\\R1-quantification\\tif_files_list.xlsx\"\n",
    "\n",
    "\n",
    "# Export the DataFrame to Excel\n",
    "df.to_excel(output_excel_path, index=False)\n",
    "\n",
    "print(f\"All .tif file names have been saved to {output_excel_path}\")"
   ]
  },
  {
   "cell_type": "code",
   "execution_count": 15,
   "id": "bf027a2a-40c1-4025-9efa-73917938a982",
   "metadata": {
    "tags": []
   },
   "outputs": [],
   "source": []
  },
  {
   "cell_type": "code",
   "execution_count": null,
   "id": "eac215fd-e46c-499d-92b7-37a2b1569ff7",
   "metadata": {},
   "outputs": [],
   "source": []
  }
 ],
 "metadata": {
  "kernelspec": {
   "display_name": "Python 3 (ipykernel)",
   "language": "python",
   "name": "python3"
  },
  "language_info": {
   "codemirror_mode": {
    "name": "ipython",
    "version": 3
   },
   "file_extension": ".py",
   "mimetype": "text/x-python",
   "name": "python",
   "nbconvert_exporter": "python",
   "pygments_lexer": "ipython3",
   "version": "3.11.5"
  }
 },
 "nbformat": 4,
 "nbformat_minor": 5
}
